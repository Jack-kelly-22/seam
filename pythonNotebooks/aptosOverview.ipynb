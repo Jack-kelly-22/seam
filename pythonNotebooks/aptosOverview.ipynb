{
 "cells": [
  {
   "cell_type": "code",
   "execution_count": 11,
   "metadata": {},
   "outputs": [],
   "source": [
    "import requests\n",
    "import os\n",
    "import csv\n",
    "\n"
   ]
  },
  {
   "cell_type": "code",
   "execution_count": 18,
   "metadata": {},
   "outputs": [],
   "source": [
    "def get_dapp_names():\n",
    "    \"\"\"\n",
    "    Returns a list of dapp names\n",
    "    \"\"\"\n",
    "    dapp_names = []\n",
    "    ls = os.listdir('../pubic/dapps')\n",
    "    for dapp in ls:\n",
    "        name = dapp.split('.')[0]\n",
    "        dapp_names.append({\"name\":name, 'image': dapp})\n",
    "    return dapp_names"
   ]
  },
  {
   "cell_type": "code",
   "execution_count": null,
   "metadata": {},
   "outputs": [],
   "source": []
  },
  {
   "cell_type": "code",
   "execution_count": 17,
   "metadata": {},
   "outputs": [
    {
     "name": "stdout",
     "output_type": "stream",
     "text": [
      "DEFI,,Empo - secure DEX,\"Jul 19, 2022 6:53 AM\",https://twitter.com/Empo_Fi,TBA,\n",
      "\n",
      "NFT,https://discord.gg/fdJXZE6F,WitchVerseLabs | Aptos NFT,\"Jul 19, 2022 8:30 AM\",https://twitter.com/WitchVerseLabs,ongoing,\n",
      "\n",
      "DEFI,,NjordFinance,\"Jul 27, 2022 12:42 PM\",https://twitter.com/NjordFinance,TBA,\n",
      "\n",
      "DEXDEFI,,Thala Labs - DeFi,\"Jul 21, 2022 7:50 PM\",https://twitter.com/ThalaLabs,TBA,\n",
      "\n",
      "DEXDEFI,,1kx Exchange,\"Jul 28, 2022 9:59 AM\",https://twitter.com/1kxprotocol,Testnet,\n",
      "\n",
      "NetworkDEFI,,ultima - Building Aptos' liquidity hub,\"Jul 19, 2022 6:18 AM\",https://twitter.com/ultimaprotocol,,\n",
      "\n",
      "DEFILending,,AptosLend,\"Jul 30, 2022 2:14 PM\",https://twitter.com/aptoslend,TBA,\n",
      "\n",
      "DEXNetwork,https://discord.gg/kHWnQpBq,Pontem Network -Building the first DEX on,\"Jul 19, 2022 5:48 AM\",https://twitter.com/PontemNetwork,Testnet,\n",
      "\n",
      "DEFISTAKE,https://discord.gg/4cC28wbK,https://aptos.super.site/aptos-aptos-labs/zaptos-zero-fee-liquid-staking-on-aptos,\"Jul 19, 2022 6:05 AM\",https://twitter.com/ZaptosFinance,ongoing,\n",
      "\n",
      "DEXDEFISTAKE,,Hanson - automated market maker for trading assets,\"Jul 19, 2022 6:28 AM\",https://twitter.com/hansondotso,TBA,\n",
      "\n",
      "DEXORDER,https://discord.gg/h6Kx9pkp,Laminar - fully decentralized Spot DEX,\"Jul 19, 2022 5:48 AM\",https://twitter.com/LaminarMarkets,TBA,\n",
      "\n",
      "DEFI,,Tsunami Finance,\"Jul 25, 2022 10:00 AM\",https://twitter.com/Tsunamifinance_,,\n",
      "\n",
      "ORACLE,,Switchboard,\"Jul 19, 2022 6:28 AM\",https://twitter.com/switchboardxyz,TBA,\n",
      "\n",
      "DEFI,,\"Vial Protocol - autonomous, algorithmic liquidity protocol .\",\"Jul 19, 2022 4:35 PM\",https://twitter.com/vialprotocol,Testnet,\n",
      "\n",
      "NFTIdentity,,names.aptos (Aptos Name Service),\"Jul 19, 2022 6:28 AM\",https://twitter.com/aptosnames,Testnet,\n",
      "\n",
      "Network,,https://aptos.super.site/aptos-aptos-labs/hippo-labs-the-aggregation-layer,\"Jul 19, 2022 6:22 AM\",https://twitter.com/hippolabs__,,\n",
      "\n",
      "PERPNetworkORDER,https://discord.gg/h6Kx9pkp,Aries Market - Decentralised Margin Trading,\"Jul 19, 2022 6:05 AM\",https://twitter.com/AriesMarkets,TBA,\n",
      "\n",
      "WALLET,https://discord.gg/HRbMWmhm,Fewcha Wallet - crypto wallet for Aptos,\"Jul 19, 2022 5:45 AM\",https://twitter.com/FewchaWallet,Testnet,\n",
      "\n",
      "DEXDEFI,,Mariana Exchange,\"Jul 27, 2022 12:45 PM\",https://twitter.com/marianaexchange,TBA,\n",
      "\n",
      "DAO,,Paymagic,\"Jul 19, 2022 6:28 AM\",https://twitter.com/paymagic_,TBA,\n",
      "\n",
      "DEXORDERNetwork,https://discord.gg/ydAeGtrW,https://aptos.super.site/aptos-aptos-labs/econia-hyper-parallelized-on-chain-order-book,\"Jul 19, 2022 6:20 AM\",https://twitter.com/EconiaLabs,TBA,\n",
      "\n",
      "WALLETNFT,https://discord.gg/MQDnAjPN,Martian - trusted Aptos wallet,\"Jul 19, 2022 6:05 AM\",https://twitter.com/martian_wallet,Testnet,\n",
      "\n",
      "MARKET PLACENFT,,Topaz - Aptos NFT Marketplace,\"Jul 19, 2022 5:45 AM\",https://twitter.com/TopazMarket,Testnet,\n"
     ]
    }
   ],
   "source": [
    "# response = requests.get(\"https://api.1inch.io/swagger/ethereum-json/v4.0/1/healthcheck\")\n",
    "# print(response.json())\n",
    "dapp_names = get_dapp_names()\n",
    "with open(\"../public/notion/dapps.csv\", \"r\") as f:\n",
    "    keys = f.readline().split(\",\")\n",
    "    lines = f.readlines()\n",
    "    for line in lines:\n",
    "        print(line)\n",
    "        values = line.split(',')\n",
    "        if values[2] in dapp_names:\n",
    "            \n",
    "\n",
    "\n",
    "\n"
   ]
  },
  {
   "cell_type": "code",
   "execution_count": null,
   "metadata": {},
   "outputs": [],
   "source": []
  },
  {
   "cell_type": "code",
   "execution_count": null,
   "metadata": {},
   "outputs": [],
   "source": []
  },
  {
   "cell_type": "code",
   "execution_count": null,
   "metadata": {},
   "outputs": [],
   "source": []
  },
  {
   "cell_type": "code",
   "execution_count": null,
   "metadata": {},
   "outputs": [],
   "source": [
    "# use the github api to get the latest commit for each dapp\n",
    "# repo_url = "
   ]
  }
 ],
 "metadata": {
  "kernelspec": {
   "display_name": "Python 3.8.6rc1 64-bit",
   "language": "python",
   "name": "python3"
  },
  "language_info": {
   "codemirror_mode": {
    "name": "ipython",
    "version": 3
   },
   "file_extension": ".py",
   "mimetype": "text/x-python",
   "name": "python",
   "nbconvert_exporter": "python",
   "pygments_lexer": "ipython3",
   "version": "3.8.6rc1"
  },
  "orig_nbformat": 4,
  "vscode": {
   "interpreter": {
    "hash": "aee8b7b246df8f9039afb4144a1f6fd8d2ca17a180786b69acc140d282b71a49"
   }
  }
 },
 "nbformat": 4,
 "nbformat_minor": 2
}
